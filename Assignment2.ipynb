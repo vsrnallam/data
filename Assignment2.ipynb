{
 "cells": [
  {
   "cell_type": "code",
   "execution_count": 100,
   "metadata": {},
   "outputs": [],
   "source": [
    "import pandas as pd \n",
    "import matplotlib.pyplot as plt\n",
    "import numpy as np\n",
    "%matplotlib inline\n",
    "import seaborn as sns\n",
    "from sklearn import preprocessing\n",
    "from sklearn.linear_model import LogisticRegression"
   ]
  },
  {
   "cell_type": "code",
   "execution_count": 84,
   "metadata": {},
   "outputs": [],
   "source": [
    "df = pd.read_csv(\"/home/jovyan/linear_reg/data/cleaned_admission_data.csv\") "
   ]
  },
  {
   "cell_type": "code",
   "execution_count": 62,
   "metadata": {
    "scrolled": true
   },
   "outputs": [
    {
     "data": {
      "text/html": [
       "<div>\n",
       "<table border=\"1\" class=\"dataframe\">\n",
       "  <thead>\n",
       "    <tr style=\"text-align: right;\">\n",
       "      <th></th>\n",
       "      <th>Admit</th>\n",
       "      <th>Deposit</th>\n",
       "      <th>Enroll</th>\n",
       "      <th>F</th>\n",
       "      <th>Ethnicity</th>\n",
       "      <th>Region Description</th>\n",
       "      <th>Age</th>\n",
       "      <th>ACT Category Description</th>\n",
       "      <th>College</th>\n",
       "      <th>Major</th>\n",
       "      <th>Convert_GPA_Fix</th>\n",
       "      <th>FIN_AID_INTEREST</th>\n",
       "    </tr>\n",
       "  </thead>\n",
       "  <tbody>\n",
       "    <tr>\n",
       "      <th>0</th>\n",
       "      <td>False</td>\n",
       "      <td>False</td>\n",
       "      <td>False</td>\n",
       "      <td>F</td>\n",
       "      <td>White</td>\n",
       "      <td>Chicago Central</td>\n",
       "      <td>62.0</td>\n",
       "      <td>Unknown</td>\n",
       "      <td>Liberal Arts &amp; Social Sciences</td>\n",
       "      <td>UGRD Undeclared TBD</td>\n",
       "      <td>NaN</td>\n",
       "      <td>Y</td>\n",
       "    </tr>\n",
       "    <tr>\n",
       "      <th>1</th>\n",
       "      <td>False</td>\n",
       "      <td>False</td>\n",
       "      <td>False</td>\n",
       "      <td>F</td>\n",
       "      <td>Multiracial</td>\n",
       "      <td>Chicago Far South</td>\n",
       "      <td>23.0</td>\n",
       "      <td>Unknown</td>\n",
       "      <td>Commerce</td>\n",
       "      <td>Business Administration</td>\n",
       "      <td>NaN</td>\n",
       "      <td>N</td>\n",
       "    </tr>\n",
       "    <tr>\n",
       "      <th>2</th>\n",
       "      <td>False</td>\n",
       "      <td>False</td>\n",
       "      <td>False</td>\n",
       "      <td>F</td>\n",
       "      <td>Hispanic</td>\n",
       "      <td>Chicago North</td>\n",
       "      <td>25.0</td>\n",
       "      <td>16-19</td>\n",
       "      <td>Commerce</td>\n",
       "      <td>Management</td>\n",
       "      <td>NaN</td>\n",
       "      <td>N</td>\n",
       "    </tr>\n",
       "    <tr>\n",
       "      <th>3</th>\n",
       "      <td>False</td>\n",
       "      <td>False</td>\n",
       "      <td>False</td>\n",
       "      <td>F</td>\n",
       "      <td>White</td>\n",
       "      <td>Out of State</td>\n",
       "      <td>19.0</td>\n",
       "      <td>Unknown</td>\n",
       "      <td>Commerce</td>\n",
       "      <td>Business Administration</td>\n",
       "      <td>4.1</td>\n",
       "      <td>N</td>\n",
       "    </tr>\n",
       "    <tr>\n",
       "      <th>4</th>\n",
       "      <td>False</td>\n",
       "      <td>True</td>\n",
       "      <td>False</td>\n",
       "      <td>F</td>\n",
       "      <td>Hispanic</td>\n",
       "      <td>Suburban West</td>\n",
       "      <td>23.0</td>\n",
       "      <td>20-23</td>\n",
       "      <td>Science and Health</td>\n",
       "      <td>Psychology</td>\n",
       "      <td>NaN</td>\n",
       "      <td>Y</td>\n",
       "    </tr>\n",
       "  </tbody>\n",
       "</table>\n",
       "</div>"
      ],
      "text/plain": [
       "   Admit Deposit Enroll  F    Ethnicity Region Description   Age  \\\n",
       "0  False   False  False  F        White    Chicago Central  62.0   \n",
       "1  False   False  False  F  Multiracial  Chicago Far South  23.0   \n",
       "2  False   False  False  F     Hispanic      Chicago North  25.0   \n",
       "3  False   False  False  F        White       Out of State  19.0   \n",
       "4  False    True  False  F     Hispanic      Suburban West  23.0   \n",
       "\n",
       "  ACT Category Description                         College  \\\n",
       "0                  Unknown  Liberal Arts & Social Sciences   \n",
       "1                  Unknown                        Commerce   \n",
       "2                    16-19                        Commerce   \n",
       "3                  Unknown                        Commerce   \n",
       "4                    20-23              Science and Health   \n",
       "\n",
       "                     Major  Convert_GPA_Fix FIN_AID_INTEREST  \n",
       "0      UGRD Undeclared TBD              NaN                Y  \n",
       "1  Business Administration              NaN                N  \n",
       "2               Management              NaN                N  \n",
       "3  Business Administration              4.1                N  \n",
       "4               Psychology              NaN                Y  "
      ]
     },
     "execution_count": 62,
     "metadata": {},
     "output_type": "execute_result"
    }
   ],
   "source": [
    "df.head()"
   ]
  },
  {
   "cell_type": "code",
   "execution_count": 45,
   "metadata": {},
   "outputs": [
    {
     "data": {
      "text/plain": [
       "array([False, True], dtype=object)"
      ]
     },
     "execution_count": 45,
     "metadata": {},
     "output_type": "execute_result"
    }
   ],
   "source": [
    "df.Deposit.unique()"
   ]
  },
  {
   "cell_type": "code",
   "execution_count": 63,
   "metadata": {},
   "outputs": [
    {
     "data": {
      "text/plain": [
       "array(['White', 'Multiracial', 'Hispanic', 'Asian/Pacific Islander',\n",
       "       'Black', 'Not Applicable', 'International',\n",
       "       'American Indian/Alaskan Native', 'Native Hawaiian/Oth Pac Island'], dtype=object)"
      ]
     },
     "execution_count": 63,
     "metadata": {},
     "output_type": "execute_result"
    }
   ],
   "source": [
    "df.Ethnicity.unique()"
   ]
  },
  {
   "cell_type": "code",
   "execution_count": 21,
   "metadata": {},
   "outputs": [
    {
     "data": {
      "text/plain": [
       "array([ 62.,  23.,  25.,  19.,  22.,  42.,  18.,  20.,  nan,  17.,  24.,\n",
       "        16.,  21.,  27.,   1.,  33.,  49.,  14.,  30.,  28.,  26.,  29.,\n",
       "        31.,  48.])"
      ]
     },
     "execution_count": 21,
     "metadata": {},
     "output_type": "execute_result"
    }
   ],
   "source": [
    "df.Age.unique()"
   ]
  },
  {
   "cell_type": "code",
   "execution_count": 22,
   "metadata": {},
   "outputs": [
    {
     "ename": "SyntaxError",
     "evalue": "invalid syntax (<ipython-input-22-cbd5e29d3790>, line 1)",
     "output_type": "error",
     "traceback": [
      "\u001b[0;36m  File \u001b[0;32m\"<ipython-input-22-cbd5e29d3790>\"\u001b[0;36m, line \u001b[0;32m1\u001b[0m\n\u001b[0;31m    df.ACT Category Description.unique()\u001b[0m\n\u001b[0m                  ^\u001b[0m\n\u001b[0;31mSyntaxError\u001b[0m\u001b[0;31m:\u001b[0m invalid syntax\n"
     ]
    }
   ],
   "source": [
    "df.ACT Category Description.unique()"
   ]
  },
  {
   "cell_type": "code",
   "execution_count": 23,
   "metadata": {},
   "outputs": [
    {
     "data": {
      "text/plain": [
       "array([   nan,  4.1  ,  2.538, ...,  1.911,  1.556,  1.66 ])"
      ]
     },
     "execution_count": 23,
     "metadata": {},
     "output_type": "execute_result"
    }
   ],
   "source": [
    "df.Convert_GPA_Fix.unique()"
   ]
  },
  {
   "cell_type": "code",
   "execution_count": 24,
   "metadata": {},
   "outputs": [
    {
     "data": {
      "image/png": "[encoded data removed]",
      "text/plain": [
       "<matplotlib.figure.Figure at 0x7f2562218e48>"
      ]
     },
     "metadata": {},
     "output_type": "display_data"
    }
   ],
   "source": [
    "corr = df.corr()\n",
    "fig = plt.figure()\n",
    "ax = fig.add_subplot(111)\n",
    "cax = ax.matshow(corr,cmap='coolwarm', vmin=-1, vmax=1)\n",
    "fig.colorbar(cax)\n",
    "ticks = np.arange(0,len(data.columns),1)\n",
    "ax.set_xticks(ticks)\n",
    "plt.xticks(rotation=90)\n",
    "ax.set_yticks(ticks)\n",
    "ax.set_xticklabels(data.columns)\n",
    "ax.set_yticklabels(data.columns)\n",
    "plt.show()"
   ]
  },
  {
   "cell_type": "code",
   "execution_count": 25,
   "metadata": {},
   "outputs": [
    {
     "name": "stdout",
     "output_type": "stream",
     "text": [
      "<class 'pandas.core.frame.DataFrame'>\n",
      "RangeIndex: 18197 entries, 0 to 18196\n",
      "Data columns (total 12 columns):\n",
      "Admit                       18197 non-null bool\n",
      "Deposit                     18197 non-null bool\n",
      "Enroll                      18197 non-null bool\n",
      "F                           18197 non-null object\n",
      "Ethnicity                   18197 non-null object\n",
      "Region Description          18197 non-null object\n",
      "Age                         18191 non-null float64\n",
      "ACT Category Description    18197 non-null object\n",
      "College                     18092 non-null object\n",
      "Major                       18099 non-null object\n",
      "Convert_GPA_Fix             16023 non-null float64\n",
      "FIN_AID_INTEREST            18098 non-null object\n",
      "dtypes: bool(3), float64(2), object(7)\n",
      "memory usage: 1.3+ MB\n"
     ]
    }
   ],
   "source": [
    "df.info()"
   ]
  },
  {
   "cell_type": "code",
   "execution_count": 29,
   "metadata": {},
   "outputs": [
    {
     "data": {
      "text/html": [
       "<div>\n",
       "<table border=\"1\" class=\"dataframe\">\n",
       "  <thead>\n",
       "    <tr style=\"text-align: right;\">\n",
       "      <th></th>\n",
       "      <th>Admit</th>\n",
       "      <th>Deposit</th>\n",
       "      <th>Enroll</th>\n",
       "      <th>Age</th>\n",
       "      <th>Convert_GPA_Fix</th>\n",
       "    </tr>\n",
       "  </thead>\n",
       "  <tbody>\n",
       "    <tr>\n",
       "      <th>Admit</th>\n",
       "      <td>1.000000</td>\n",
       "      <td>0.339145</td>\n",
       "      <td>0.318503</td>\n",
       "      <td>-0.054758</td>\n",
       "      <td>0.392140</td>\n",
       "    </tr>\n",
       "    <tr>\n",
       "      <th>Deposit</th>\n",
       "      <td>0.339145</td>\n",
       "      <td>1.000000</td>\n",
       "      <td>0.932718</td>\n",
       "      <td>0.004276</td>\n",
       "      <td>0.078477</td>\n",
       "    </tr>\n",
       "    <tr>\n",
       "      <th>Enroll</th>\n",
       "      <td>0.318503</td>\n",
       "      <td>0.932718</td>\n",
       "      <td>1.000000</td>\n",
       "      <td>0.003264</td>\n",
       "      <td>0.081825</td>\n",
       "    </tr>\n",
       "    <tr>\n",
       "      <th>Age</th>\n",
       "      <td>-0.054758</td>\n",
       "      <td>0.004276</td>\n",
       "      <td>0.003264</td>\n",
       "      <td>1.000000</td>\n",
       "      <td>-0.037479</td>\n",
       "    </tr>\n",
       "    <tr>\n",
       "      <th>Convert_GPA_Fix</th>\n",
       "      <td>0.392140</td>\n",
       "      <td>0.078477</td>\n",
       "      <td>0.081825</td>\n",
       "      <td>-0.037479</td>\n",
       "      <td>1.000000</td>\n",
       "    </tr>\n",
       "  </tbody>\n",
       "</table>\n",
       "</div>"
      ],
      "text/plain": [
       "                    Admit   Deposit    Enroll       Age  Convert_GPA_Fix\n",
       "Admit            1.000000  0.339145  0.318503 -0.054758         0.392140\n",
       "Deposit          0.339145  1.000000  0.932718  0.004276         0.078477\n",
       "Enroll           0.318503  0.932718  1.000000  0.003264         0.081825\n",
       "Age             -0.054758  0.004276  0.003264  1.000000        -0.037479\n",
       "Convert_GPA_Fix  0.392140  0.078477  0.081825 -0.037479         1.000000"
      ]
     },
     "execution_count": 29,
     "metadata": {},
     "output_type": "execute_result"
    }
   ],
   "source": [
    "df.corr(method='spearman')"
   ]
  },
  {
   "cell_type": "code",
   "execution_count": 41,
   "metadata": {},
   "outputs": [
    {
     "data": {
      "text/plain": [
       "Series([], Name: Enroll, dtype: int64)"
      ]
     },
     "execution_count": 41,
     "metadata": {},
     "output_type": "execute_result"
    }
   ],
   "source": [
    "df['Enroll'].value_counts()"
   ]
  },
  {
   "cell_type": "code",
   "execution_count": 42,
   "metadata": {},
   "outputs": [
    {
     "data": {
      "text/html": [
       "<div>\n",
       "<table border=\"1\" class=\"dataframe\">\n",
       "  <thead>\n",
       "    <tr style=\"text-align: right;\">\n",
       "      <th></th>\n",
       "      <th>Admit</th>\n",
       "      <th>Deposit</th>\n",
       "      <th>Enroll</th>\n",
       "      <th>F</th>\n",
       "      <th>Ethnicity</th>\n",
       "      <th>Region Description</th>\n",
       "      <th>Age</th>\n",
       "      <th>ACT Category Description</th>\n",
       "      <th>College</th>\n",
       "      <th>Major</th>\n",
       "      <th>Convert_GPA_Fix</th>\n",
       "      <th>FIN_AID_INTEREST</th>\n",
       "    </tr>\n",
       "  </thead>\n",
       "  <tbody>\n",
       "    <tr>\n",
       "      <th>0</th>\n",
       "      <td>False</td>\n",
       "      <td>False</td>\n",
       "      <td>NaN</td>\n",
       "      <td>F</td>\n",
       "      <td>White</td>\n",
       "      <td>Chicago Central</td>\n",
       "      <td>62.0</td>\n",
       "      <td>Unknown</td>\n",
       "      <td>Liberal Arts &amp; Social Sciences</td>\n",
       "      <td>UGRD Undeclared TBD</td>\n",
       "      <td>NaN</td>\n",
       "      <td>Y</td>\n",
       "    </tr>\n",
       "    <tr>\n",
       "      <th>1</th>\n",
       "      <td>False</td>\n",
       "      <td>False</td>\n",
       "      <td>NaN</td>\n",
       "      <td>F</td>\n",
       "      <td>Multiracial</td>\n",
       "      <td>Chicago Far South</td>\n",
       "      <td>23.0</td>\n",
       "      <td>Unknown</td>\n",
       "      <td>Commerce</td>\n",
       "      <td>Business Administration</td>\n",
       "      <td>NaN</td>\n",
       "      <td>N</td>\n",
       "    </tr>\n",
       "    <tr>\n",
       "      <th>2</th>\n",
       "      <td>False</td>\n",
       "      <td>False</td>\n",
       "      <td>NaN</td>\n",
       "      <td>F</td>\n",
       "      <td>Hispanic</td>\n",
       "      <td>Chicago North</td>\n",
       "      <td>25.0</td>\n",
       "      <td>16-19</td>\n",
       "      <td>Commerce</td>\n",
       "      <td>Management</td>\n",
       "      <td>NaN</td>\n",
       "      <td>N</td>\n",
       "    </tr>\n",
       "    <tr>\n",
       "      <th>3</th>\n",
       "      <td>False</td>\n",
       "      <td>False</td>\n",
       "      <td>NaN</td>\n",
       "      <td>F</td>\n",
       "      <td>White</td>\n",
       "      <td>Out of State</td>\n",
       "      <td>19.0</td>\n",
       "      <td>Unknown</td>\n",
       "      <td>Commerce</td>\n",
       "      <td>Business Administration</td>\n",
       "      <td>4.1</td>\n",
       "      <td>N</td>\n",
       "    </tr>\n",
       "    <tr>\n",
       "      <th>4</th>\n",
       "      <td>False</td>\n",
       "      <td>True</td>\n",
       "      <td>NaN</td>\n",
       "      <td>F</td>\n",
       "      <td>Hispanic</td>\n",
       "      <td>Suburban West</td>\n",
       "      <td>23.0</td>\n",
       "      <td>20-23</td>\n",
       "      <td>Science and Health</td>\n",
       "      <td>Psychology</td>\n",
       "      <td>NaN</td>\n",
       "      <td>Y</td>\n",
       "    </tr>\n",
       "  </tbody>\n",
       "</table>\n",
       "</div>"
      ],
      "text/plain": [
       "   Admit Deposit  Enroll  F    Ethnicity Region Description   Age  \\\n",
       "0  False   False     NaN  F        White    Chicago Central  62.0   \n",
       "1  False   False     NaN  F  Multiracial  Chicago Far South  23.0   \n",
       "2  False   False     NaN  F     Hispanic      Chicago North  25.0   \n",
       "3  False   False     NaN  F        White       Out of State  19.0   \n",
       "4  False    True     NaN  F     Hispanic      Suburban West  23.0   \n",
       "\n",
       "  ACT Category Description                         College  \\\n",
       "0                  Unknown  Liberal Arts & Social Sciences   \n",
       "1                  Unknown                        Commerce   \n",
       "2                    16-19                        Commerce   \n",
       "3                  Unknown                        Commerce   \n",
       "4                    20-23              Science and Health   \n",
       "\n",
       "                     Major  Convert_GPA_Fix FIN_AID_INTEREST  \n",
       "0      UGRD Undeclared TBD              NaN                Y  \n",
       "1  Business Administration              NaN                N  \n",
       "2               Management              NaN                N  \n",
       "3  Business Administration              4.1                N  \n",
       "4               Psychology              NaN                Y  "
      ]
     },
     "execution_count": 42,
     "metadata": {},
     "output_type": "execute_result"
    }
   ],
   "source": [
    "df.head()"
   ]
  },
  {
   "cell_type": "code",
   "execution_count": 38,
   "metadata": {},
   "outputs": [
    {
     "ename": "SyntaxError",
     "evalue": "invalid syntax (<ipython-input-38-843fab6a1f09>, line 1)",
     "output_type": "error",
     "traceback": [
      "\u001b[0;36m  File \u001b[0;32m\"<ipython-input-38-843fab6a1f09>\"\u001b[0;36m, line \u001b[0;32m1\u001b[0m\n\u001b[0;31m    df = df.applymap(lambda df['Enroll']: 1 if df['Enroll'] == True  )\u001b[0m\n\u001b[0m                              ^\u001b[0m\n\u001b[0;31mSyntaxError\u001b[0m\u001b[0;31m:\u001b[0m invalid syntax\n"
     ]
    }
   ],
   "source": [
    "df = df.applymap(lambda df['Enroll']: 1 if df['Enroll'] == True  )\n"
   ]
  },
  {
   "cell_type": "code",
   "execution_count": 33,
   "metadata": {},
   "outputs": [
    {
     "data": {
      "text/html": [
       "<div>\n",
       "<table border=\"1\" class=\"dataframe\">\n",
       "  <thead>\n",
       "    <tr style=\"text-align: right;\">\n",
       "      <th></th>\n",
       "      <th>Admit</th>\n",
       "      <th>Deposit</th>\n",
       "      <th>Enroll</th>\n",
       "      <th>F</th>\n",
       "      <th>Ethnicity</th>\n",
       "      <th>Region Description</th>\n",
       "      <th>Age</th>\n",
       "      <th>ACT Category Description</th>\n",
       "      <th>College</th>\n",
       "      <th>Major</th>\n",
       "      <th>Convert_GPA_Fix</th>\n",
       "      <th>FIN_AID_INTEREST</th>\n",
       "    </tr>\n",
       "  </thead>\n",
       "  <tbody>\n",
       "    <tr>\n",
       "      <th>0</th>\n",
       "      <td>False</td>\n",
       "      <td>False</td>\n",
       "      <td>False</td>\n",
       "      <td>F</td>\n",
       "      <td>White</td>\n",
       "      <td>Chicago Central</td>\n",
       "      <td>62.0</td>\n",
       "      <td>Unknown</td>\n",
       "      <td>Liberal Arts &amp; Social Sciences</td>\n",
       "      <td>UGRD Undeclared TBD</td>\n",
       "      <td>NaN</td>\n",
       "      <td>Y</td>\n",
       "    </tr>\n",
       "    <tr>\n",
       "      <th>1</th>\n",
       "      <td>False</td>\n",
       "      <td>False</td>\n",
       "      <td>False</td>\n",
       "      <td>F</td>\n",
       "      <td>Multiracial</td>\n",
       "      <td>Chicago Far South</td>\n",
       "      <td>23.0</td>\n",
       "      <td>Unknown</td>\n",
       "      <td>Commerce</td>\n",
       "      <td>Business Administration</td>\n",
       "      <td>NaN</td>\n",
       "      <td>N</td>\n",
       "    </tr>\n",
       "    <tr>\n",
       "      <th>2</th>\n",
       "      <td>False</td>\n",
       "      <td>False</td>\n",
       "      <td>False</td>\n",
       "      <td>F</td>\n",
       "      <td>Hispanic</td>\n",
       "      <td>Chicago North</td>\n",
       "      <td>25.0</td>\n",
       "      <td>16-19</td>\n",
       "      <td>Commerce</td>\n",
       "      <td>Management</td>\n",
       "      <td>NaN</td>\n",
       "      <td>N</td>\n",
       "    </tr>\n",
       "    <tr>\n",
       "      <th>3</th>\n",
       "      <td>False</td>\n",
       "      <td>False</td>\n",
       "      <td>False</td>\n",
       "      <td>F</td>\n",
       "      <td>White</td>\n",
       "      <td>Out of State</td>\n",
       "      <td>19.0</td>\n",
       "      <td>Unknown</td>\n",
       "      <td>Commerce</td>\n",
       "      <td>Business Administration</td>\n",
       "      <td>4.1</td>\n",
       "      <td>N</td>\n",
       "    </tr>\n",
       "    <tr>\n",
       "      <th>4</th>\n",
       "      <td>False</td>\n",
       "      <td>True</td>\n",
       "      <td>False</td>\n",
       "      <td>F</td>\n",
       "      <td>Hispanic</td>\n",
       "      <td>Suburban West</td>\n",
       "      <td>23.0</td>\n",
       "      <td>20-23</td>\n",
       "      <td>Science and Health</td>\n",
       "      <td>Psychology</td>\n",
       "      <td>NaN</td>\n",
       "      <td>Y</td>\n",
       "    </tr>\n",
       "  </tbody>\n",
       "</table>\n",
       "</div>"
      ],
      "text/plain": [
       "   Admit Deposit Enroll  F    Ethnicity Region Description   Age  \\\n",
       "0  False   False  False  F        White    Chicago Central  62.0   \n",
       "1  False   False  False  F  Multiracial  Chicago Far South  23.0   \n",
       "2  False   False  False  F     Hispanic      Chicago North  25.0   \n",
       "3  False   False  False  F        White       Out of State  19.0   \n",
       "4  False    True  False  F     Hispanic      Suburban West  23.0   \n",
       "\n",
       "  ACT Category Description                         College  \\\n",
       "0                  Unknown  Liberal Arts & Social Sciences   \n",
       "1                  Unknown                        Commerce   \n",
       "2                    16-19                        Commerce   \n",
       "3                  Unknown                        Commerce   \n",
       "4                    20-23              Science and Health   \n",
       "\n",
       "                     Major  Convert_GPA_Fix FIN_AID_INTEREST  \n",
       "0      UGRD Undeclared TBD              NaN                Y  \n",
       "1  Business Administration              NaN                N  \n",
       "2               Management              NaN                N  \n",
       "3  Business Administration              4.1                N  \n",
       "4               Psychology              NaN                Y  "
      ]
     },
     "execution_count": 33,
     "metadata": {},
     "output_type": "execute_result"
    }
   ],
   "source": [
    "df.head()"
   ]
  },
  {
   "cell_type": "code",
   "execution_count": 52,
   "metadata": {},
   "outputs": [],
   "source": [
    "df['Enroll'] = df['Enroll'].map({'1': 'True', '0': 'False'})"
   ]
  },
  {
   "cell_type": "code",
   "execution_count": 53,
   "metadata": {},
   "outputs": [
    {
     "data": {
      "text/html": [
       "<div>\n",
       "<table border=\"1\" class=\"dataframe\">\n",
       "  <thead>\n",
       "    <tr style=\"text-align: right;\">\n",
       "      <th></th>\n",
       "      <th>Admit</th>\n",
       "      <th>Deposit</th>\n",
       "      <th>Enroll</th>\n",
       "      <th>F</th>\n",
       "      <th>Ethnicity</th>\n",
       "      <th>Region Description</th>\n",
       "      <th>Age</th>\n",
       "      <th>ACT Category Description</th>\n",
       "      <th>College</th>\n",
       "      <th>Major</th>\n",
       "      <th>Convert_GPA_Fix</th>\n",
       "      <th>FIN_AID_INTEREST</th>\n",
       "    </tr>\n",
       "  </thead>\n",
       "  <tbody>\n",
       "    <tr>\n",
       "      <th>0</th>\n",
       "      <td>False</td>\n",
       "      <td>False</td>\n",
       "      <td>NaN</td>\n",
       "      <td>F</td>\n",
       "      <td>White</td>\n",
       "      <td>Chicago Central</td>\n",
       "      <td>62.0</td>\n",
       "      <td>Unknown</td>\n",
       "      <td>Liberal Arts &amp; Social Sciences</td>\n",
       "      <td>UGRD Undeclared TBD</td>\n",
       "      <td>NaN</td>\n",
       "      <td>Y</td>\n",
       "    </tr>\n",
       "    <tr>\n",
       "      <th>1</th>\n",
       "      <td>False</td>\n",
       "      <td>False</td>\n",
       "      <td>NaN</td>\n",
       "      <td>F</td>\n",
       "      <td>Multiracial</td>\n",
       "      <td>Chicago Far South</td>\n",
       "      <td>23.0</td>\n",
       "      <td>Unknown</td>\n",
       "      <td>Commerce</td>\n",
       "      <td>Business Administration</td>\n",
       "      <td>NaN</td>\n",
       "      <td>N</td>\n",
       "    </tr>\n",
       "    <tr>\n",
       "      <th>2</th>\n",
       "      <td>False</td>\n",
       "      <td>False</td>\n",
       "      <td>NaN</td>\n",
       "      <td>F</td>\n",
       "      <td>Hispanic</td>\n",
       "      <td>Chicago North</td>\n",
       "      <td>25.0</td>\n",
       "      <td>16-19</td>\n",
       "      <td>Commerce</td>\n",
       "      <td>Management</td>\n",
       "      <td>NaN</td>\n",
       "      <td>N</td>\n",
       "    </tr>\n",
       "    <tr>\n",
       "      <th>3</th>\n",
       "      <td>False</td>\n",
       "      <td>False</td>\n",
       "      <td>NaN</td>\n",
       "      <td>F</td>\n",
       "      <td>White</td>\n",
       "      <td>Out of State</td>\n",
       "      <td>19.0</td>\n",
       "      <td>Unknown</td>\n",
       "      <td>Commerce</td>\n",
       "      <td>Business Administration</td>\n",
       "      <td>4.1</td>\n",
       "      <td>N</td>\n",
       "    </tr>\n",
       "    <tr>\n",
       "      <th>4</th>\n",
       "      <td>False</td>\n",
       "      <td>True</td>\n",
       "      <td>NaN</td>\n",
       "      <td>F</td>\n",
       "      <td>Hispanic</td>\n",
       "      <td>Suburban West</td>\n",
       "      <td>23.0</td>\n",
       "      <td>20-23</td>\n",
       "      <td>Science and Health</td>\n",
       "      <td>Psychology</td>\n",
       "      <td>NaN</td>\n",
       "      <td>Y</td>\n",
       "    </tr>\n",
       "  </tbody>\n",
       "</table>\n",
       "</div>"
      ],
      "text/plain": [
       "   Admit Deposit Enroll  F    Ethnicity Region Description   Age  \\\n",
       "0  False   False    NaN  F        White    Chicago Central  62.0   \n",
       "1  False   False    NaN  F  Multiracial  Chicago Far South  23.0   \n",
       "2  False   False    NaN  F     Hispanic      Chicago North  25.0   \n",
       "3  False   False    NaN  F        White       Out of State  19.0   \n",
       "4  False    True    NaN  F     Hispanic      Suburban West  23.0   \n",
       "\n",
       "  ACT Category Description                         College  \\\n",
       "0                  Unknown  Liberal Arts & Social Sciences   \n",
       "1                  Unknown                        Commerce   \n",
       "2                    16-19                        Commerce   \n",
       "3                  Unknown                        Commerce   \n",
       "4                    20-23              Science and Health   \n",
       "\n",
       "                     Major  Convert_GPA_Fix FIN_AID_INTEREST  \n",
       "0      UGRD Undeclared TBD              NaN                Y  \n",
       "1  Business Administration              NaN                N  \n",
       "2               Management              NaN                N  \n",
       "3  Business Administration              4.1                N  \n",
       "4               Psychology              NaN                Y  "
      ]
     },
     "execution_count": 53,
     "metadata": {},
     "output_type": "execute_result"
    }
   ],
   "source": [
    "df.head()"
   ]
  },
  {
   "cell_type": "code",
   "execution_count": 60,
   "metadata": {},
   "outputs": [
    {
     "ename": "SyntaxError",
     "evalue": "keyword can't be an expression (<ipython-input-60-2c9c50dd1928>, line 1)",
     "output_type": "error",
     "traceback": [
      "\u001b[0;36m  File \u001b[0;32m\"<ipython-input-60-2c9c50dd1928>\"\u001b[0;36m, line \u001b[0;32m1\u001b[0m\n\u001b[0;31m    pd.Series(map(lambda x: dict(True=1, False=0)[x],\u001b[0m\n\u001b[0m                                ^\u001b[0m\n\u001b[0;31mSyntaxError\u001b[0m\u001b[0;31m:\u001b[0m keyword can't be an expression\n"
     ]
    }
   ],
   "source": [
    "pd.Series(map(lambda x: dict(True=1, False=0)[x],df.Enroll.values.tolist()), df.index)\n"
   ]
  },
  {
   "cell_type": "code",
   "execution_count": 64,
   "metadata": {},
   "outputs": [
    {
     "name": "stdout",
     "output_type": "stream",
     "text": [
      "Admit                          0\n",
      "Deposit                        0\n",
      "Enroll                         0\n",
      "F                              0\n",
      "Ethnicity                      0\n",
      "Region Description             0\n",
      "Age                            6\n",
      "ACT Category Description       0\n",
      "College                      105\n",
      "Major                         98\n",
      "Convert_GPA_Fix             2174\n",
      "FIN_AID_INTEREST              99\n",
      "dtype: int64\n"
     ]
    }
   ],
   "source": [
    "print(df.isnull().sum())"
   ]
  },
  {
   "cell_type": "code",
   "execution_count": 70,
   "metadata": {},
   "outputs": [
    {
     "data": {
      "text/plain": [
       "<matplotlib.axes._subplots.AxesSubplot at 0x7f255bf207b8>"
      ]
     },
     "execution_count": 70,
     "metadata": {},
     "output_type": "execute_result"
    },
    {
     "data": {
      "image/png": "[encoded data removed]",
      "text/plain": [
       "<matplotlib.figure.Figure at 0x7f255c0cd400>"
      ]
     },
     "metadata": {},
     "output_type": "display_data"
    }
   ],
   "source": [
    "df['Age'].hist(bins=10)"
   ]
  },
  {
   "cell_type": "code",
   "execution_count": 72,
   "metadata": {},
   "outputs": [
    {
     "ename": "ValueError",
     "evalue": "max must be larger than min in range parameter.",
     "output_type": "error",
     "traceback": [
      "\u001b[0;31m---------------------------------------------------------------------------\u001b[0m",
      "\u001b[0;31mValueError\u001b[0m                                Traceback (most recent call last)",
      "\u001b[0;32m<ipython-input-72-1a6fe1782b2f>\u001b[0m in \u001b[0;36m<module>\u001b[0;34m()\u001b[0m\n\u001b[0;32m----> 1\u001b[0;31m \u001b[0msns\u001b[0m\u001b[0;34m.\u001b[0m\u001b[0mpairplot\u001b[0m\u001b[0;34m(\u001b[0m\u001b[0mdf\u001b[0m\u001b[0;34m)\u001b[0m\u001b[0;34m\u001b[0m\u001b[0m\n\u001b[0m",
      "\u001b[0;32m/opt/conda/lib/python3.6/site-packages/seaborn/linearmodels.py\u001b[0m in \u001b[0;36mpairplot\u001b[0;34m(data, hue, hue_order, palette, vars, x_vars, y_vars, kind, diag_kind, markers, size, aspect, dropna, plot_kws, diag_kws, grid_kws)\u001b[0m\n\u001b[1;32m   1607\u001b[0m     \u001b[0;32mif\u001b[0m \u001b[0mgrid\u001b[0m\u001b[0;34m.\u001b[0m\u001b[0msquare_grid\u001b[0m\u001b[0;34m:\u001b[0m\u001b[0;34m\u001b[0m\u001b[0m\n\u001b[1;32m   1608\u001b[0m         \u001b[0;32mif\u001b[0m \u001b[0mdiag_kind\u001b[0m \u001b[0;34m==\u001b[0m \u001b[0;34m\"hist\"\u001b[0m\u001b[0;34m:\u001b[0m\u001b[0;34m\u001b[0m\u001b[0m\n\u001b[0;32m-> 1609\u001b[0;31m             \u001b[0mgrid\u001b[0m\u001b[0;34m.\u001b[0m\u001b[0mmap_diag\u001b[0m\u001b[0;34m(\u001b[0m\u001b[0mplt\u001b[0m\u001b[0;34m.\u001b[0m\u001b[0mhist\u001b[0m\u001b[0;34m,\u001b[0m \u001b[0;34m**\u001b[0m\u001b[0mdiag_kws\u001b[0m\u001b[0;34m)\u001b[0m\u001b[0;34m\u001b[0m\u001b[0m\n\u001b[0m\u001b[1;32m   1610\u001b[0m         \u001b[0;32melif\u001b[0m \u001b[0mdiag_kind\u001b[0m \u001b[0;34m==\u001b[0m \u001b[0;34m\"kde\"\u001b[0m\u001b[0;34m:\u001b[0m\u001b[0;34m\u001b[0m\u001b[0m\n\u001b[1;32m   1611\u001b[0m             \u001b[0mdiag_kws\u001b[0m\u001b[0;34m[\u001b[0m\u001b[0;34m\"legend\"\u001b[0m\u001b[0;34m]\u001b[0m \u001b[0;34m=\u001b[0m \u001b[0;32mFalse\u001b[0m\u001b[0;34m\u001b[0m\u001b[0m\n",
      "\u001b[0;32m/opt/conda/lib/python3.6/site-packages/seaborn/axisgrid.py\u001b[0m in \u001b[0;36mmap_diag\u001b[0;34m(self, func, **kwargs)\u001b[0m\n\u001b[1;32m   1346\u001b[0m                 \u001b[0;32melse\u001b[0m\u001b[0;34m:\u001b[0m\u001b[0;34m\u001b[0m\u001b[0m\n\u001b[1;32m   1347\u001b[0m                     func(vals, color=self.palette, histtype=\"barstacked\",\n\u001b[0;32m-> 1348\u001b[0;31m                          **kwargs)\n\u001b[0m\u001b[1;32m   1349\u001b[0m             \u001b[0;32melse\u001b[0m\u001b[0;34m:\u001b[0m\u001b[0;34m\u001b[0m\u001b[0m\n\u001b[1;32m   1350\u001b[0m                 \u001b[0;32mfor\u001b[0m \u001b[0mk\u001b[0m\u001b[0;34m,\u001b[0m \u001b[0mlabel_k\u001b[0m \u001b[0;32min\u001b[0m \u001b[0menumerate\u001b[0m\u001b[0;34m(\u001b[0m\u001b[0mself\u001b[0m\u001b[0;34m.\u001b[0m\u001b[0mhue_names\u001b[0m\u001b[0;34m)\u001b[0m\u001b[0;34m:\u001b[0m\u001b[0;34m\u001b[0m\u001b[0m\n",
      "\u001b[0;32m/opt/conda/lib/python3.6/site-packages/matplotlib/pyplot.py\u001b[0m in \u001b[0;36mhist\u001b[0;34m(x, bins, range, normed, weights, cumulative, bottom, histtype, align, orientation, rwidth, log, color, label, stacked, hold, data, **kwargs)\u001b[0m\n\u001b[1;32m   3079\u001b[0m                       \u001b[0mhisttype\u001b[0m\u001b[0;34m=\u001b[0m\u001b[0mhisttype\u001b[0m\u001b[0;34m,\u001b[0m \u001b[0malign\u001b[0m\u001b[0;34m=\u001b[0m\u001b[0malign\u001b[0m\u001b[0;34m,\u001b[0m \u001b[0morientation\u001b[0m\u001b[0;34m=\u001b[0m\u001b[0morientation\u001b[0m\u001b[0;34m,\u001b[0m\u001b[0;34m\u001b[0m\u001b[0m\n\u001b[1;32m   3080\u001b[0m                       \u001b[0mrwidth\u001b[0m\u001b[0;34m=\u001b[0m\u001b[0mrwidth\u001b[0m\u001b[0;34m,\u001b[0m \u001b[0mlog\u001b[0m\u001b[0;34m=\u001b[0m\u001b[0mlog\u001b[0m\u001b[0;34m,\u001b[0m \u001b[0mcolor\u001b[0m\u001b[0;34m=\u001b[0m\u001b[0mcolor\u001b[0m\u001b[0;34m,\u001b[0m \u001b[0mlabel\u001b[0m\u001b[0;34m=\u001b[0m\u001b[0mlabel\u001b[0m\u001b[0;34m,\u001b[0m\u001b[0;34m\u001b[0m\u001b[0m\n\u001b[0;32m-> 3081\u001b[0;31m                       stacked=stacked, data=data, **kwargs)\n\u001b[0m\u001b[1;32m   3082\u001b[0m     \u001b[0;32mfinally\u001b[0m\u001b[0;34m:\u001b[0m\u001b[0;34m\u001b[0m\u001b[0m\n\u001b[1;32m   3083\u001b[0m         \u001b[0max\u001b[0m\u001b[0;34m.\u001b[0m\u001b[0m_hold\u001b[0m \u001b[0;34m=\u001b[0m \u001b[0mwashold\u001b[0m\u001b[0;34m\u001b[0m\u001b[0m\n",
      "\u001b[0;32m/opt/conda/lib/python3.6/site-packages/matplotlib/__init__.py\u001b[0m in \u001b[0;36minner\u001b[0;34m(ax, *args, **kwargs)\u001b[0m\n\u001b[1;32m   1896\u001b[0m                     warnings.warn(msg % (label_namer, func.__name__),\n\u001b[1;32m   1897\u001b[0m                                   RuntimeWarning, stacklevel=2)\n\u001b[0;32m-> 1898\u001b[0;31m             \u001b[0;32mreturn\u001b[0m \u001b[0mfunc\u001b[0m\u001b[0;34m(\u001b[0m\u001b[0max\u001b[0m\u001b[0;34m,\u001b[0m \u001b[0;34m*\u001b[0m\u001b[0margs\u001b[0m\u001b[0;34m,\u001b[0m \u001b[0;34m**\u001b[0m\u001b[0mkwargs\u001b[0m\u001b[0;34m)\u001b[0m\u001b[0;34m\u001b[0m\u001b[0m\n\u001b[0m\u001b[1;32m   1899\u001b[0m         \u001b[0mpre_doc\u001b[0m \u001b[0;34m=\u001b[0m \u001b[0minner\u001b[0m\u001b[0;34m.\u001b[0m\u001b[0m__doc__\u001b[0m\u001b[0;34m\u001b[0m\u001b[0m\n\u001b[1;32m   1900\u001b[0m         \u001b[0;32mif\u001b[0m \u001b[0mpre_doc\u001b[0m \u001b[0;32mis\u001b[0m \u001b[0;32mNone\u001b[0m\u001b[0;34m:\u001b[0m\u001b[0;34m\u001b[0m\u001b[0m\n",
      "\u001b[0;32m/opt/conda/lib/python3.6/site-packages/matplotlib/axes/_axes.py\u001b[0m in \u001b[0;36mhist\u001b[0;34m(***failed resolving arguments***)\u001b[0m\n\u001b[1;32m   6193\u001b[0m             \u001b[0;31m# this will automatically overwrite bins,\u001b[0m\u001b[0;34m\u001b[0m\u001b[0;34m\u001b[0m\u001b[0m\n\u001b[1;32m   6194\u001b[0m             \u001b[0;31m# so that each histogram uses the same bins\u001b[0m\u001b[0;34m\u001b[0m\u001b[0;34m\u001b[0m\u001b[0m\n\u001b[0;32m-> 6195\u001b[0;31m             \u001b[0mm\u001b[0m\u001b[0;34m,\u001b[0m \u001b[0mbins\u001b[0m \u001b[0;34m=\u001b[0m \u001b[0mnp\u001b[0m\u001b[0;34m.\u001b[0m\u001b[0mhistogram\u001b[0m\u001b[0;34m(\u001b[0m\u001b[0mx\u001b[0m\u001b[0;34m[\u001b[0m\u001b[0mi\u001b[0m\u001b[0;34m]\u001b[0m\u001b[0;34m,\u001b[0m \u001b[0mbins\u001b[0m\u001b[0;34m,\u001b[0m \u001b[0mweights\u001b[0m\u001b[0;34m=\u001b[0m\u001b[0mw\u001b[0m\u001b[0;34m[\u001b[0m\u001b[0mi\u001b[0m\u001b[0;34m]\u001b[0m\u001b[0;34m,\u001b[0m \u001b[0;34m**\u001b[0m\u001b[0mhist_kwargs\u001b[0m\u001b[0;34m)\u001b[0m\u001b[0;34m\u001b[0m\u001b[0m\n\u001b[0m\u001b[1;32m   6196\u001b[0m             \u001b[0mm\u001b[0m \u001b[0;34m=\u001b[0m \u001b[0mm\u001b[0m\u001b[0;34m.\u001b[0m\u001b[0mastype\u001b[0m\u001b[0;34m(\u001b[0m\u001b[0mfloat\u001b[0m\u001b[0;34m)\u001b[0m  \u001b[0;31m# causes problems later if it's an int\u001b[0m\u001b[0;34m\u001b[0m\u001b[0m\n\u001b[1;32m   6197\u001b[0m             \u001b[0;32mif\u001b[0m \u001b[0mmlast\u001b[0m \u001b[0;32mis\u001b[0m \u001b[0;32mNone\u001b[0m\u001b[0;34m:\u001b[0m\u001b[0;34m\u001b[0m\u001b[0m\n",
      "\u001b[0;32m/opt/conda/lib/python3.6/site-packages/numpy/lib/function_base.py\u001b[0m in \u001b[0;36mhistogram\u001b[0;34m(a, bins, range, normed, weights, density)\u001b[0m\n\u001b[1;32m    664\u001b[0m     \u001b[0;32mif\u001b[0m \u001b[0mmn\u001b[0m \u001b[0;34m>\u001b[0m \u001b[0mmx\u001b[0m\u001b[0;34m:\u001b[0m\u001b[0;34m\u001b[0m\u001b[0m\n\u001b[1;32m    665\u001b[0m         raise ValueError(\n\u001b[0;32m--> 666\u001b[0;31m             'max must be larger than min in range parameter.')\n\u001b[0m\u001b[1;32m    667\u001b[0m     \u001b[0;32mif\u001b[0m \u001b[0;32mnot\u001b[0m \u001b[0mnp\u001b[0m\u001b[0;34m.\u001b[0m\u001b[0mall\u001b[0m\u001b[0;34m(\u001b[0m\u001b[0mnp\u001b[0m\u001b[0;34m.\u001b[0m\u001b[0misfinite\u001b[0m\u001b[0;34m(\u001b[0m\u001b[0;34m[\u001b[0m\u001b[0mmn\u001b[0m\u001b[0;34m,\u001b[0m \u001b[0mmx\u001b[0m\u001b[0;34m]\u001b[0m\u001b[0;34m)\u001b[0m\u001b[0;34m)\u001b[0m\u001b[0;34m:\u001b[0m\u001b[0;34m\u001b[0m\u001b[0m\n\u001b[1;32m    668\u001b[0m         raise ValueError(\n",
      "\u001b[0;31mValueError\u001b[0m: max must be larger than min in range parameter."
     ]
    },
    {
     "data": {
      "image/png": "[encoded data removed]",
      "text/plain": [
       "<matplotlib.figure.Figure at 0x7f255c0f7f60>"
      ]
     },
     "metadata": {},
     "output_type": "display_data"
    }
   ],
   "source": [
    "sns.pairplot(df)"
   ]
  },
  {
   "cell_type": "code",
   "execution_count": 76,
   "metadata": {},
   "outputs": [],
   "source": [
    "df.replace(False, 0, inplace=True)"
   ]
  },
  {
   "cell_type": "code",
   "execution_count": 74,
   "metadata": {},
   "outputs": [],
   "source": [
    "df.replace(True, 1, inplace=True)"
   ]
  },
  {
   "cell_type": "code",
   "execution_count": 77,
   "metadata": {},
   "outputs": [
    {
     "data": {
      "text/html": [
       "<div>\n",
       "<table border=\"1\" class=\"dataframe\">\n",
       "  <thead>\n",
       "    <tr style=\"text-align: right;\">\n",
       "      <th></th>\n",
       "      <th>Admit</th>\n",
       "      <th>Deposit</th>\n",
       "      <th>Enroll</th>\n",
       "      <th>F</th>\n",
       "      <th>Ethnicity</th>\n",
       "      <th>Region Description</th>\n",
       "      <th>Age</th>\n",
       "      <th>ACT Category Description</th>\n",
       "      <th>College</th>\n",
       "      <th>Major</th>\n",
       "      <th>Convert_GPA_Fix</th>\n",
       "      <th>FIN_AID_INTEREST</th>\n",
       "    </tr>\n",
       "  </thead>\n",
       "  <tbody>\n",
       "    <tr>\n",
       "      <th>0</th>\n",
       "      <td>False</td>\n",
       "      <td>False</td>\n",
       "      <td>False</td>\n",
       "      <td>F</td>\n",
       "      <td>White</td>\n",
       "      <td>Chicago Central</td>\n",
       "      <td>62.0</td>\n",
       "      <td>Unknown</td>\n",
       "      <td>Liberal Arts &amp; Social Sciences</td>\n",
       "      <td>UGRD Undeclared TBD</td>\n",
       "      <td>NaN</td>\n",
       "      <td>Y</td>\n",
       "    </tr>\n",
       "    <tr>\n",
       "      <th>1</th>\n",
       "      <td>False</td>\n",
       "      <td>False</td>\n",
       "      <td>False</td>\n",
       "      <td>F</td>\n",
       "      <td>Multiracial</td>\n",
       "      <td>Chicago Far South</td>\n",
       "      <td>23.0</td>\n",
       "      <td>Unknown</td>\n",
       "      <td>Commerce</td>\n",
       "      <td>Business Administration</td>\n",
       "      <td>NaN</td>\n",
       "      <td>N</td>\n",
       "    </tr>\n",
       "    <tr>\n",
       "      <th>2</th>\n",
       "      <td>False</td>\n",
       "      <td>False</td>\n",
       "      <td>False</td>\n",
       "      <td>F</td>\n",
       "      <td>Hispanic</td>\n",
       "      <td>Chicago North</td>\n",
       "      <td>25.0</td>\n",
       "      <td>16-19</td>\n",
       "      <td>Commerce</td>\n",
       "      <td>Management</td>\n",
       "      <td>NaN</td>\n",
       "      <td>N</td>\n",
       "    </tr>\n",
       "    <tr>\n",
       "      <th>3</th>\n",
       "      <td>False</td>\n",
       "      <td>False</td>\n",
       "      <td>False</td>\n",
       "      <td>F</td>\n",
       "      <td>White</td>\n",
       "      <td>Out of State</td>\n",
       "      <td>19.0</td>\n",
       "      <td>Unknown</td>\n",
       "      <td>Commerce</td>\n",
       "      <td>Business Administration</td>\n",
       "      <td>4.1</td>\n",
       "      <td>N</td>\n",
       "    </tr>\n",
       "    <tr>\n",
       "      <th>4</th>\n",
       "      <td>False</td>\n",
       "      <td>True</td>\n",
       "      <td>False</td>\n",
       "      <td>F</td>\n",
       "      <td>Hispanic</td>\n",
       "      <td>Suburban West</td>\n",
       "      <td>23.0</td>\n",
       "      <td>20-23</td>\n",
       "      <td>Science and Health</td>\n",
       "      <td>Psychology</td>\n",
       "      <td>NaN</td>\n",
       "      <td>Y</td>\n",
       "    </tr>\n",
       "  </tbody>\n",
       "</table>\n",
       "</div>"
      ],
      "text/plain": [
       "   Admit Deposit Enroll  F    Ethnicity Region Description   Age  \\\n",
       "0  False   False  False  F        White    Chicago Central  62.0   \n",
       "1  False   False  False  F  Multiracial  Chicago Far South  23.0   \n",
       "2  False   False  False  F     Hispanic      Chicago North  25.0   \n",
       "3  False   False  False  F        White       Out of State  19.0   \n",
       "4  False    True  False  F     Hispanic      Suburban West  23.0   \n",
       "\n",
       "  ACT Category Description                         College  \\\n",
       "0                  Unknown  Liberal Arts & Social Sciences   \n",
       "1                  Unknown                        Commerce   \n",
       "2                    16-19                        Commerce   \n",
       "3                  Unknown                        Commerce   \n",
       "4                    20-23              Science and Health   \n",
       "\n",
       "                     Major  Convert_GPA_Fix FIN_AID_INTEREST  \n",
       "0      UGRD Undeclared TBD              NaN                Y  \n",
       "1  Business Administration              NaN                N  \n",
       "2               Management              NaN                N  \n",
       "3  Business Administration              4.1                N  \n",
       "4               Psychology              NaN                Y  "
      ]
     },
     "execution_count": 77,
     "metadata": {},
     "output_type": "execute_result"
    }
   ],
   "source": [
    "df.head()"
   ]
  },
  {
   "cell_type": "code",
   "execution_count": 81,
   "metadata": {},
   "outputs": [],
   "source": [
    "df['Enroll_num'] = df.Enroll.map({'False':0, 'True':1})"
   ]
  },
  {
   "cell_type": "code",
   "execution_count": 82,
   "metadata": {},
   "outputs": [
    {
     "data": {
      "text/html": [
       "<div>\n",
       "<table border=\"1\" class=\"dataframe\">\n",
       "  <thead>\n",
       "    <tr style=\"text-align: right;\">\n",
       "      <th></th>\n",
       "      <th>Admit</th>\n",
       "      <th>Deposit</th>\n",
       "      <th>Enroll</th>\n",
       "      <th>F</th>\n",
       "      <th>Ethnicity</th>\n",
       "      <th>Region Description</th>\n",
       "      <th>Age</th>\n",
       "      <th>ACT Category Description</th>\n",
       "      <th>College</th>\n",
       "      <th>Major</th>\n",
       "      <th>Convert_GPA_Fix</th>\n",
       "      <th>FIN_AID_INTEREST</th>\n",
       "      <th>Enroll_num</th>\n",
       "    </tr>\n",
       "  </thead>\n",
       "  <tbody>\n",
       "    <tr>\n",
       "      <th>0</th>\n",
       "      <td>False</td>\n",
       "      <td>False</td>\n",
       "      <td>False</td>\n",
       "      <td>F</td>\n",
       "      <td>White</td>\n",
       "      <td>Chicago Central</td>\n",
       "      <td>62.0</td>\n",
       "      <td>Unknown</td>\n",
       "      <td>Liberal Arts &amp; Social Sciences</td>\n",
       "      <td>UGRD Undeclared TBD</td>\n",
       "      <td>NaN</td>\n",
       "      <td>Y</td>\n",
       "      <td>NaN</td>\n",
       "    </tr>\n",
       "    <tr>\n",
       "      <th>1</th>\n",
       "      <td>False</td>\n",
       "      <td>False</td>\n",
       "      <td>False</td>\n",
       "      <td>F</td>\n",
       "      <td>Multiracial</td>\n",
       "      <td>Chicago Far South</td>\n",
       "      <td>23.0</td>\n",
       "      <td>Unknown</td>\n",
       "      <td>Commerce</td>\n",
       "      <td>Business Administration</td>\n",
       "      <td>NaN</td>\n",
       "      <td>N</td>\n",
       "      <td>NaN</td>\n",
       "    </tr>\n",
       "    <tr>\n",
       "      <th>2</th>\n",
       "      <td>False</td>\n",
       "      <td>False</td>\n",
       "      <td>False</td>\n",
       "      <td>F</td>\n",
       "      <td>Hispanic</td>\n",
       "      <td>Chicago North</td>\n",
       "      <td>25.0</td>\n",
       "      <td>16-19</td>\n",
       "      <td>Commerce</td>\n",
       "      <td>Management</td>\n",
       "      <td>NaN</td>\n",
       "      <td>N</td>\n",
       "      <td>NaN</td>\n",
       "    </tr>\n",
       "    <tr>\n",
       "      <th>3</th>\n",
       "      <td>False</td>\n",
       "      <td>False</td>\n",
       "      <td>False</td>\n",
       "      <td>F</td>\n",
       "      <td>White</td>\n",
       "      <td>Out of State</td>\n",
       "      <td>19.0</td>\n",
       "      <td>Unknown</td>\n",
       "      <td>Commerce</td>\n",
       "      <td>Business Administration</td>\n",
       "      <td>4.1</td>\n",
       "      <td>N</td>\n",
       "      <td>NaN</td>\n",
       "    </tr>\n",
       "    <tr>\n",
       "      <th>4</th>\n",
       "      <td>False</td>\n",
       "      <td>True</td>\n",
       "      <td>False</td>\n",
       "      <td>F</td>\n",
       "      <td>Hispanic</td>\n",
       "      <td>Suburban West</td>\n",
       "      <td>23.0</td>\n",
       "      <td>20-23</td>\n",
       "      <td>Science and Health</td>\n",
       "      <td>Psychology</td>\n",
       "      <td>NaN</td>\n",
       "      <td>Y</td>\n",
       "      <td>NaN</td>\n",
       "    </tr>\n",
       "  </tbody>\n",
       "</table>\n",
       "</div>"
      ],
      "text/plain": [
       "   Admit Deposit Enroll  F    Ethnicity Region Description   Age  \\\n",
       "0  False   False  False  F        White    Chicago Central  62.0   \n",
       "1  False   False  False  F  Multiracial  Chicago Far South  23.0   \n",
       "2  False   False  False  F     Hispanic      Chicago North  25.0   \n",
       "3  False   False  False  F        White       Out of State  19.0   \n",
       "4  False    True  False  F     Hispanic      Suburban West  23.0   \n",
       "\n",
       "  ACT Category Description                         College  \\\n",
       "0                  Unknown  Liberal Arts & Social Sciences   \n",
       "1                  Unknown                        Commerce   \n",
       "2                    16-19                        Commerce   \n",
       "3                  Unknown                        Commerce   \n",
       "4                    20-23              Science and Health   \n",
       "\n",
       "                     Major  Convert_GPA_Fix FIN_AID_INTEREST  Enroll_num  \n",
       "0      UGRD Undeclared TBD              NaN                Y         NaN  \n",
       "1  Business Administration              NaN                N         NaN  \n",
       "2               Management              NaN                N         NaN  \n",
       "3  Business Administration              4.1                N         NaN  \n",
       "4               Psychology              NaN                Y         NaN  "
      ]
     },
     "execution_count": 82,
     "metadata": {},
     "output_type": "execute_result"
    }
   ],
   "source": [
    "df.head()"
   ]
  },
  {
   "cell_type": "code",
   "execution_count": 130,
   "metadata": {},
   "outputs": [],
   "source": [
    "le = preprocessing.LabelEncoder()\n",
    "df['Etnicity'] = le.fit_transform(df['Ethnicity'])\n",
    "\n",
    "\n"
   ]
  },
  {
   "cell_type": "code",
   "execution_count": 131,
   "metadata": {},
   "outputs": [
    {
     "data": {
      "text/html": [
       "<div>\n",
       "<table border=\"1\" class=\"dataframe\">\n",
       "  <thead>\n",
       "    <tr style=\"text-align: right;\">\n",
       "      <th></th>\n",
       "      <th>Admit</th>\n",
       "      <th>Deposit</th>\n",
       "      <th>Enroll</th>\n",
       "      <th>F</th>\n",
       "      <th>Ethnicity</th>\n",
       "      <th>Region Description</th>\n",
       "      <th>Age</th>\n",
       "      <th>ACT Category Description</th>\n",
       "      <th>College</th>\n",
       "      <th>Major</th>\n",
       "      <th>Convert_GPA_Fix</th>\n",
       "      <th>FIN_AID_INTEREST</th>\n",
       "      <th>enroll_int</th>\n",
       "      <th>enroll</th>\n",
       "      <th>Etnicity</th>\n",
       "    </tr>\n",
       "  </thead>\n",
       "  <tbody>\n",
       "    <tr>\n",
       "      <th>0</th>\n",
       "      <td>False</td>\n",
       "      <td>False</td>\n",
       "      <td>0</td>\n",
       "      <td>F</td>\n",
       "      <td>White</td>\n",
       "      <td>Chicago Central</td>\n",
       "      <td>62.0</td>\n",
       "      <td>Unknown</td>\n",
       "      <td>Liberal Arts &amp; Social Sciences</td>\n",
       "      <td>UGRD Undeclared TBD</td>\n",
       "      <td>NaN</td>\n",
       "      <td>Y</td>\n",
       "      <td>0</td>\n",
       "      <td>0</td>\n",
       "      <td>8</td>\n",
       "    </tr>\n",
       "    <tr>\n",
       "      <th>1</th>\n",
       "      <td>False</td>\n",
       "      <td>False</td>\n",
       "      <td>0</td>\n",
       "      <td>F</td>\n",
       "      <td>Multiracial</td>\n",
       "      <td>Chicago Far South</td>\n",
       "      <td>23.0</td>\n",
       "      <td>Unknown</td>\n",
       "      <td>Commerce</td>\n",
       "      <td>Business Administration</td>\n",
       "      <td>NaN</td>\n",
       "      <td>N</td>\n",
       "      <td>0</td>\n",
       "      <td>0</td>\n",
       "      <td>5</td>\n",
       "    </tr>\n",
       "    <tr>\n",
       "      <th>2</th>\n",
       "      <td>False</td>\n",
       "      <td>False</td>\n",
       "      <td>0</td>\n",
       "      <td>F</td>\n",
       "      <td>Hispanic</td>\n",
       "      <td>Chicago North</td>\n",
       "      <td>25.0</td>\n",
       "      <td>16-19</td>\n",
       "      <td>Commerce</td>\n",
       "      <td>Management</td>\n",
       "      <td>NaN</td>\n",
       "      <td>N</td>\n",
       "      <td>0</td>\n",
       "      <td>0</td>\n",
       "      <td>3</td>\n",
       "    </tr>\n",
       "    <tr>\n",
       "      <th>3</th>\n",
       "      <td>False</td>\n",
       "      <td>False</td>\n",
       "      <td>0</td>\n",
       "      <td>F</td>\n",
       "      <td>White</td>\n",
       "      <td>Out of State</td>\n",
       "      <td>19.0</td>\n",
       "      <td>Unknown</td>\n",
       "      <td>Commerce</td>\n",
       "      <td>Business Administration</td>\n",
       "      <td>4.1</td>\n",
       "      <td>N</td>\n",
       "      <td>0</td>\n",
       "      <td>0</td>\n",
       "      <td>8</td>\n",
       "    </tr>\n",
       "    <tr>\n",
       "      <th>4</th>\n",
       "      <td>False</td>\n",
       "      <td>True</td>\n",
       "      <td>0</td>\n",
       "      <td>F</td>\n",
       "      <td>Hispanic</td>\n",
       "      <td>Suburban West</td>\n",
       "      <td>23.0</td>\n",
       "      <td>20-23</td>\n",
       "      <td>Science and Health</td>\n",
       "      <td>Psychology</td>\n",
       "      <td>NaN</td>\n",
       "      <td>Y</td>\n",
       "      <td>0</td>\n",
       "      <td>0</td>\n",
       "      <td>3</td>\n",
       "    </tr>\n",
       "  </tbody>\n",
       "</table>\n",
       "</div>"
      ],
      "text/plain": [
       "   Admit Deposit  Enroll  F    Ethnicity Region Description   Age  \\\n",
       "0  False   False       0  F        White    Chicago Central  62.0   \n",
       "1  False   False       0  F  Multiracial  Chicago Far South  23.0   \n",
       "2  False   False       0  F     Hispanic      Chicago North  25.0   \n",
       "3  False   False       0  F        White       Out of State  19.0   \n",
       "4  False    True       0  F     Hispanic      Suburban West  23.0   \n",
       "\n",
       "  ACT Category Description                         College  \\\n",
       "0                  Unknown  Liberal Arts & Social Sciences   \n",
       "1                  Unknown                        Commerce   \n",
       "2                    16-19                        Commerce   \n",
       "3                  Unknown                        Commerce   \n",
       "4                    20-23              Science and Health   \n",
       "\n",
       "                     Major  Convert_GPA_Fix FIN_AID_INTEREST  enroll_int  \\\n",
       "0      UGRD Undeclared TBD              NaN                Y           0   \n",
       "1  Business Administration              NaN                N           0   \n",
       "2               Management              NaN                N           0   \n",
       "3  Business Administration              4.1                N           0   \n",
       "4               Psychology              NaN                Y           0   \n",
       "\n",
       "   enroll  Etnicity  \n",
       "0       0         8  \n",
       "1       0         5  \n",
       "2       0         3  \n",
       "3       0         8  \n",
       "4       0         3  "
      ]
     },
     "execution_count": 131,
     "metadata": {},
     "output_type": "execute_result"
    }
   ],
   "source": [
    "df.head()"
   ]
  },
  {
   "cell_type": "code",
   "execution_count": 101,
   "metadata": {},
   "outputs": [
    {
     "ename": "NameError",
     "evalue": "name 'classification_model' is not defined",
     "output_type": "error",
     "traceback": [
      "\u001b[0;31m---------------------------------------------------------------------------\u001b[0m",
      "\u001b[0;31mNameError\u001b[0m                                 Traceback (most recent call last)",
      "\u001b[0;32m<ipython-input-101-f5614e950776>\u001b[0m in \u001b[0;36m<module>\u001b[0;34m()\u001b[0m\n\u001b[1;32m      2\u001b[0m \u001b[0mmodel\u001b[0m\u001b[0;34m=\u001b[0m \u001b[0mLogisticRegression\u001b[0m\u001b[0;34m(\u001b[0m\u001b[0;34m)\u001b[0m\u001b[0;34m\u001b[0m\u001b[0m\n\u001b[1;32m      3\u001b[0m \u001b[0mpredictor_var\u001b[0m\u001b[0;34m=\u001b[0m \u001b[0;34m[\u001b[0m\u001b[0;34m'Ethnicity'\u001b[0m\u001b[0;34m]\u001b[0m\u001b[0;34m\u001b[0m\u001b[0m\n\u001b[0;32m----> 4\u001b[0;31m \u001b[0mclassification_model\u001b[0m\u001b[0;34m(\u001b[0m\u001b[0mmodel\u001b[0m\u001b[0;34m,\u001b[0m\u001b[0mdf\u001b[0m\u001b[0;34m,\u001b[0m\u001b[0mpredictor_var\u001b[0m\u001b[0;34m,\u001b[0m\u001b[0moutcome_var\u001b[0m\u001b[0;34m)\u001b[0m\u001b[0;34m\u001b[0m\u001b[0m\n\u001b[0m",
      "\u001b[0;31mNameError\u001b[0m: name 'classification_model' is not defined"
     ]
    }
   ],
   "source": []
  },
  {
   "cell_type": "code",
   "execution_count": 102,
   "metadata": {},
   "outputs": [
    {
     "data": {
      "text/plain": [
       "Admit                          0\n",
       "Deposit                        0\n",
       "Enroll                         0\n",
       "F                              0\n",
       "Ethnicity                      0\n",
       "Region Description             0\n",
       "Age                            6\n",
       "ACT Category Description       0\n",
       "College                      105\n",
       "Major                         98\n",
       "Convert_GPA_Fix             2174\n",
       "FIN_AID_INTEREST              99\n",
       "enroll_int                     0\n",
       "enroll                         0\n",
       "Etnicity                       0\n",
       "dtype: int64"
      ]
     },
     "execution_count": 102,
     "metadata": {},
     "output_type": "execute_result"
    }
   ],
   "source": [
    "# Check for null\n",
    "df.isnull().sum()"
   ]
  },
  {
   "cell_type": "code",
   "execution_count": null,
   "metadata": {},
   "outputs": [],
   "source": [
    "# Bar plot fot dependent varaiable"
   ]
  },
  {
   "cell_type": "code",
   "execution_count": 123,
   "metadata": {},
   "outputs": [],
   "source": [
    "X = df.iloc[:,[0,2,4,]]\n",
    "y = df.iloc[:,2]\n",
    "#X_train, X_test, y_train, y_test = train_test_split(X, y, random_state=0)\n"
   ]
  },
  {
   "cell_type": "code",
   "execution_count": 124,
   "metadata": {},
   "outputs": [
    {
     "name": "stdout",
     "output_type": "stream",
     "text": [
      "       Admit  Enroll               Ethnicity\n",
      "0      False       0                   White\n",
      "1      False       0             Multiracial\n",
      "2      False       0                Hispanic\n",
      "3      False       0                   White\n",
      "4      False       0                Hispanic\n",
      "5      False       0  Asian/Pacific Islander\n",
      "6      False       0                Hispanic\n",
      "7      False       0                   White\n",
      "8      False       0                   Black\n",
      "9      False       0                   Black\n",
      "10     False       0                Hispanic\n",
      "11     False       0                Hispanic\n",
      "12     False       0  Asian/Pacific Islander\n",
      "13     False       0                   Black\n",
      "14     False       0                   White\n",
      "15     False       0                   Black\n",
      "16     False       0          Not Applicable\n",
      "17      True       1                   White\n",
      "18      True       0           International\n",
      "19      True       0                Hispanic\n",
      "20     False       0                   Black\n",
      "21     False       0                   Black\n",
      "22     False       0          Not Applicable\n",
      "23     False       0                   White\n",
      "24      True       1                   White\n",
      "25     False       0                   White\n",
      "26      True       0           International\n",
      "27      True       0                   White\n",
      "28      True       0                   White\n",
      "29     False       0           International\n",
      "...      ...     ...                     ...\n",
      "18167  False       0                   White\n",
      "18168  False       0                   Black\n",
      "18169  False       0                Hispanic\n",
      "18170  False       0  Asian/Pacific Islander\n",
      "18171  False       0                   White\n",
      "18172  False       0                Hispanic\n",
      "18173  False       0                Hispanic\n",
      "18174  False       0                Hispanic\n",
      "18175  False       0                   Black\n",
      "18176  False       0                   Black\n",
      "18177  False       0             Multiracial\n",
      "18178  False       0          Not Applicable\n",
      "18179  False       0                Hispanic\n",
      "18180  False       0  Asian/Pacific Islander\n",
      "18181  False       0  Asian/Pacific Islander\n",
      "18182  False       0                   White\n",
      "18183  False       0                   Black\n",
      "18184  False       0                   White\n",
      "18185  False       0                Hispanic\n",
      "18186  False       0                Hispanic\n",
      "18187  False       0                Hispanic\n",
      "18188  False       0                   White\n",
      "18189  False       0                   White\n",
      "18190  False       0                   Black\n",
      "18191  False       0                Hispanic\n",
      "18192  False       0             Multiracial\n",
      "18193  False       0                Hispanic\n",
      "18194  False       0                   Black\n",
      "18195  False       0                   White\n",
      "18196  False       0          Not Applicable\n",
      "\n",
      "[18197 rows x 3 columns]\n"
     ]
    }
   ],
   "source": [
    "print (X)"
   ]
  },
  {
   "cell_type": "code",
   "execution_count": 125,
   "metadata": {},
   "outputs": [],
   "source": [
    "#Import models from scikit learn module:\n",
    "from sklearn.linear_model import LogisticRegression\n",
    "from sklearn.model_selection import KFold   #For K-fold cross validation\n",
    "from sklearn.ensemble import RandomForestClassifier\n",
    "from sklearn.tree import DecisionTreeClassifier, export_graphviz\n",
    "from sklearn import metrics\n",
    "\n",
    "#Generic function for making a classification model and accessing performance:\n",
    "def classification_model(model, data, predictors, outcome):\n",
    "  #Fit the model:\n",
    "  model.fit(data[predictors],data[outcome])\n",
    "  \n",
    "  #Make predictions on training set:\n",
    "  predictions = model.predict(data[predictors])\n",
    "  \n",
    "  #Print accuracy\n",
    "  accuracy = metrics.accuracy_score(predictions,data[outcome])\n",
    "  print (\"Accuracy : %s\" % \"{0:.3%}\".format(accuracy))\n",
    "\n",
    "  #Perform k-fold cross-validation with 5 folds\n",
    "  kf = KFold(data.shape[0], n_splits=5)\n",
    "  error = []\n",
    "  for train, test in kf:\n",
    "    # Filter training data\n",
    "    train_predictors = (data[predictors].iloc[train,:])\n",
    "    \n",
    "    # The target we're using to train the algorithm.\n",
    "    train_target = data[outcome].iloc[train]\n",
    "    \n",
    "    # Training the algorithm using the predictors and target.\n",
    "    model.fit(train_predictors, train_target)\n",
    "    \n",
    "    #Record error from each cross-validation run\n",
    "    error.append(model.score(data[predictors].iloc[test,:], data[outcome].iloc[test]))\n",
    " \n",
    "  print (\"Cross-Validation Score : %s\" % \"{0:.3%}\".format(np.mean(error)))\n",
    "\n",
    "  #Fit the model again so that it can be refered outside the function:\n",
    "  model.fit(data[predictors],data[outcome]) "
   ]
  },
  {
   "cell_type": "code",
   "execution_count": 134,
   "metadata": {},
   "outputs": [
    {
     "data": {
      "text/plain": [
       "array(['White', 'Multiracial', 'Hispanic', 'Asian/Pacific Islander',\n",
       "       'Black', 'Not Applicable', 'International',\n",
       "       'American Indian/Alaskan Native', 'Native Hawaiian/Oth Pac Island'], dtype=object)"
      ]
     },
     "execution_count": 134,
     "metadata": {},
     "output_type": "execute_result"
    }
   ],
   "source": [
    "df.Ethnicity.unique()"
   ]
  },
  {
   "cell_type": "code",
   "execution_count": null,
   "metadata": {},
   "outputs": [],
   "source": [
    "le = preprocessing.LabelEncoder()\n",
    "df['Etnicity'] = le.fit_transform(df['Ethnicity'])"
   ]
  },
  {
   "cell_type": "code",
   "execution_count": null,
   "metadata": {},
   "outputs": [],
   "source": [
    "outcome_var = df['Enroll']\n",
    "model= LogisticRegression()\n",
    "predictor_var= df['Etnicity']\n",
    "print (predictor_var)\n",
    "classification_model(model,df,predictor_var,outcome_var)"
   ]
  },
  {
   "cell_type": "code",
   "execution_count": null,
   "metadata": {},
   "outputs": [],
   "source": []
  },
  {
   "cell_type": "code",
   "execution_count": null,
   "metadata": {},
   "outputs": [],
   "source": [
    "df.Convert_GPA_Fix.unique()"
   ]
  }
 ],
 "metadata": {
  "kernelspec": {
   "display_name": "Python 3",
   "language": "python",
   "name": "python3"
  },
  "language_info": {
   "codemirror_mode": {
    "name": "ipython",
    "version": 3
   },
   "file_extension": ".py",
   "mimetype": "text/x-python",
   "name": "python",
   "nbconvert_exporter": "python",
   "pygments_lexer": "ipython3",
   "version": "3.6.3"
  }
 },
 "nbformat": 4,
 "nbformat_minor": 2
}
